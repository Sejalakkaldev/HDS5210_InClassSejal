{
  "cells": [
    {
      "cell_type": "markdown",
      "metadata": {
        "id": "Wrqhjj-K_cI4"
      },
      "source": [
        "# Parsing HTML with BeautifulSoup\n",
        "\n",
        "In this example, we want to look at a website and get a list of all the available downloadable files from that website.\n",
        "\n",
        "https://catalog.data.gov/dataset?res_format=CSV&tags=hospital"
      ]
    },
    {
      "cell_type": "code",
      "execution_count": 1,
      "metadata": {
        "id": "CucFDdzc_cI6"
      },
      "outputs": [],
      "source": [
        "import requests\n",
        "from bs4 import BeautifulSoup"
      ]
    },
    {
      "cell_type": "code",
      "execution_count": 3,
      "metadata": {
        "id": "ZVx1k62W_cI8"
      },
      "outputs": [],
      "source": [
        "r = requests.get('https://www.healthdata.gov/browse?q=new%20york%20city&sortBy=relevance')"
      ]
    },
    {
      "cell_type": "code",
      "execution_count": 4,
      "metadata": {
        "id": "wQsmfKx5_cI8",
        "outputId": "8faae07c-c985-4313-c2f9-c54242119c2e",
        "colab": {
          "base_uri": "https://localhost:8080/"
        }
      },
      "outputs": [
        {
          "output_type": "execute_result",
          "data": {
            "text/plain": [
              "200"
            ]
          },
          "metadata": {},
          "execution_count": 4
        }
      ],
      "source": [
        "r.status_code"
      ]
    },
    {
      "cell_type": "code",
      "execution_count": 5,
      "metadata": {
        "id": "v3WO1evD_cI8"
      },
      "outputs": [],
      "source": [
        "soup = BeautifulSoup(r.text)"
      ]
    },
    {
      "cell_type": "code",
      "execution_count": 6,
      "metadata": {
        "id": "Th-huQAX_cI9",
        "outputId": "db32ef0b-88ee-4f4a-ba89-75a09cec7942",
        "colab": {
          "base_uri": "https://localhost:8080/"
        }
      },
      "outputs": [
        {
          "output_type": "execute_result",
          "data": {
            "text/plain": [
              "{'AH Provisional COVID-19 Deaths by HHS Region, Race, and Age Group, 2020-2021': 'https://healthdata.gov/dataset/AH-Provisional-COVID-19-Deaths-by-HHS-Region-Race-/t2fw-w3st',\n",
              " 'Provisional COVID-19 death counts, rates, and percent of total deaths, by jurisdiction of residence': 'https://healthdata.gov/dataset/Provisional-COVID-19-death-counts-rates-and-percen/ihcu-rh4h',\n",
              " 'AH Provisional COVID-19 Deaths by HHS Region, Race, and Age, 2015-2021': 'https://healthdata.gov/dataset/AH-Provisional-COVID-19-Deaths-by-HHS-Region-Race-/cyb4-33vd',\n",
              " 'Provisional COVID-19 Deaths by HHS Region, Race, and Age': 'https://healthdata.gov/dataset/Provisional-COVID-19-Deaths-by-HHS-Region-Race-and/rqxj-kx48',\n",
              " 'NNDSS - TABLE 1V. Malaria to Measles, Indigenous': 'https://healthdata.gov/dataset/NNDSS-TABLE-1V-Malaria-to-Measles-Indigenous/ny67-jjrn',\n",
              " 'AH Provisional COVID-19 Deaths by HHS Region, Race, and Age, 2015 to date': 'https://healthdata.gov/dataset/AH-Provisional-COVID-19-Deaths-by-HHS-Region-Race-/4k2r-vsst',\n",
              " 'Rates of COVID-19 Cases or Deaths by Age Group and Vaccination Status and Booster Dose': 'https://healthdata.gov/dataset/Rates-of-COVID-19-Cases-or-Deaths-by-Age-Group-and/pifi-rn2z',\n",
              " 'AH Provisional COVID-19 Deaths by HHS Region, Race, Age 65plus': 'https://healthdata.gov/dataset/AH-Provisional-COVID-19-Deaths-by-HHS-Region-Race-/u398-4pfh',\n",
              " 'Rates of COVID-19 Cases or Deaths by Age Group and Vaccination Status': 'https://healthdata.gov/dataset/Rates-of-COVID-19-Cases-or-Deaths-by-Age-Group-and/894y-jyp5',\n",
              " 'NNDSS - Table 1H. Cholera to Coccidioidomycosis': 'https://healthdata.gov/dataset/NNDSS-Table-1H-Cholera-to-Coccidioidomycosis/pzed-idii'}"
            ]
          },
          "metadata": {},
          "execution_count": 6
        }
      ],
      "source": [
        "result_list = {}\n",
        "\n",
        "for num, item in enumerate(soup.find_all('a', {'class': 'browse2-result-name-link'})):\n",
        "    if num > 10:\n",
        "        break\n",
        "    result_list[item.text] = item.attrs.get('href')\n",
        "\n",
        "result_list"
      ]
    },
    {
      "cell_type": "code",
      "execution_count": null,
      "metadata": {
        "id": "tbxnHvA8_cI9"
      },
      "outputs": [],
      "source": []
    },
    {
      "cell_type": "code",
      "execution_count": 7,
      "metadata": {
        "id": "KCMORujQ_cI9"
      },
      "outputs": [],
      "source": [
        "r = requests.get('https://fhir.epic.com/Specifications?api=981')"
      ]
    },
    {
      "cell_type": "code",
      "execution_count": 8,
      "metadata": {
        "id": "XUuyhuQH_cI9",
        "outputId": "f58546b3-5cdd-4765-f7db-8cdeaaa4f716",
        "colab": {
          "base_uri": "https://localhost:8080/"
        }
      },
      "outputs": [
        {
          "output_type": "execute_result",
          "data": {
            "text/plain": [
              "200"
            ]
          },
          "metadata": {},
          "execution_count": 8
        }
      ],
      "source": [
        "r.status_code"
      ]
    },
    {
      "cell_type": "code",
      "execution_count": 9,
      "metadata": {
        "id": "pTvaZ9hk_cI9"
      },
      "outputs": [],
      "source": [
        "soup = BeautifulSoup(r.text)"
      ]
    },
    {
      "cell_type": "code",
      "execution_count": 10,
      "metadata": {
        "id": "7Y_1nieH_cI9",
        "outputId": "108f274c-8801-409e-f120-34ad73c79192",
        "colab": {
          "base_uri": "https://localhost:8080/"
        }
      },
      "outputs": [
        {
          "output_type": "stream",
          "name": "stdout",
          "text": [
            "{\n",
            "    \"4100\": [\n",
            "        \"Fatal\",\n",
            "        \"The resource request contained an invalid parameter\",\n",
            "        \"Invalid parameter such as a nonexistent patient ID: AllergyIntolerance?patient=foo\"\n",
            "    ],\n",
            "    \"4101\": [\n",
            "        \"Warning\",\n",
            "        \"Resource request returns\\u00a0no results\",\n",
            "        \"A request for data that was otherwise valid but no information was documented or found (i.e. a patient with no pertinent implanted devices, or a demographic search where no patients met the search criteria).\"\n",
            "    ],\n",
            "    \"4102\": [\n",
            "        \"Fatal\",\n",
            "        \"The read resource request contained an invalid ID\",\n",
            "        \"Invalid Resource ID: AllergyIntolerance/foo\"\n",
            "    ],\n",
            "    \"4103\": [\n",
            "        \"Fatal\",\n",
            "        \"The resource requested has been deleted\",\n",
            "        \"A read request for a resource that was deleted in the system\"\n",
            "    ],\n",
            "    \"4104\": [\n",
            "        \"Fatal\",\n",
            "        \"A required FHIR element was not available to send in the response\",\n",
            "        \"Failed to determine a SNOMED code for the smoking status.\"\n",
            "    ],\n",
            "    \"4107 \": [\n",
            "        \"Fatal\",\n",
            "        \"The read resource request has been merged\",\n",
            "        \"Requesting a Patient which has been merged - in this event, in addition to the error response, we will respond with an HTTP Redirect status. To browsers and many HTTP clients, the redirect will be transparent.\"\n",
            "    ],\n",
            "    \"4110\": [\n",
            "        \"Fatal\",\n",
            "        \"No parameters are provided in the search request\",\n",
            "        \"An invalid search request such as : AllergyIntolerance? \"\n",
            "    ],\n",
            "    \"4111\": [\n",
            "        \"Fatal\",\n",
            "        \"Required search parameter missing from request\",\n",
            "        \"A request missing a required parameter (such as the patient): Condition?category=diagnosis\"\n",
            "    ],\n",
            "    \"4112\": [\n",
            "        \"Fatal\",\n",
            "        \"The resource request contained an invalid combination of parameters\",\n",
            "        \"A search containing multiple different patient ID: AllergyIntolerance?patient=[ID 1]&patient=[ID 2]\"\n",
            "    ],\n",
            "    \"4113\": [\n",
            "        \"Fatal\",\n",
            "        \"Session ID for cached search results has expired. \",\n",
            "        \"Making a request for previously accessed paginated search results after the search has expired.\"\n",
            "    ],\n",
            "    \"4115\": [\n",
            "        \"Fatal\",\n",
            "        \"Required search parameter has an invalid value\",\n",
            "        \"An invalid parameter required for searching: Condition?Patient=[ID]&category=foo\"\n",
            "    ],\n",
            "    \"4116\": [\n",
            "        \"Fatal\",\n",
            "        \"Invalid query for session. This error only applies to DSTU2 version paging functionality.\",\n",
            "        \"Called in paging context if the user has gone to the next page of the same session but changed the original query:  AllergyIntolerance?patient=[ID 1] <-- original query  AllergyIntolerance?patient=[ID 1]&page=2&session=123 <-- valid  AllergyIntolerance?patient=[ID 2]&page=2&session=123 <-- error is logged.\"\n",
            "    ],\n",
            "    \"4117\": [\n",
            "        \"Warning\",\n",
            "        \"No CVX code for Immunization resource\",\n",
            "        \"Request for an Immunization resource without a documented CVX code.\"\n",
            "    ],\n",
            "    \"4118\": [\n",
            "        \"Fatal\",\n",
            "        \"User not authorized for request\",\n",
            "        \"Request data that the authenticated user is not allowed access to view (i.e. a patient asking for data about a stranger's allergies).\"\n",
            "    ],\n",
            "    \"4119\": [\n",
            "        \"Warning\",\n",
            "        \"Additional data may be present for patient\",\n",
            "        \"Request data while authenticated as an authorized patient or patient proxy. Inidicates that data available to the patient may not be the complete medical record within the system.\"\n",
            "    ],\n",
            "    \"4122\": [\n",
            "        \"Warning\",\n",
            "        \"An unknown query parameter was supplied by the client\",\n",
            "        \"A request with dateWritten on a resource for which the parameter is ignored.  A request with parameter zzzzzz on any resource.\"\n",
            "    ],\n",
            "    \"4127\": [\n",
            "        \"Fatal\",\n",
            "        \"Additional data may exist\",\n",
            "        \"This error is logged whenever Patient.Search exceeds 100 results.\"\n",
            "    ],\n",
            "    \"4130\": [\n",
            "        \"Fatal\",\n",
            "        \"Break-the-Glass security does not authorize you to access the selected patient/resource\",\n",
            "        \"The patient has a sensitive psychiatric visit and you are not part of the psychiatric or care team. This is returned when you would attempt Encounter.Read on this encounter. Note: these checks are configured by each health system and may vary based on their security policies.\"\n",
            "    ],\n",
            "    \"4131\": [\n",
            "        \"Fatal\",\n",
            "        \"The patient you are attempting to access is restricted. You must break the glass to access patient data.\",\n",
            "        \"The patient is a hospital employee so extra protection is in place such that only those who have provided a reason to access the chart can access all data. This is returned when you attempt a Patient.Read on that patient. Note: these checks are configured by each health system and may vary based on their security policies.\"\n",
            "    ],\n",
            "    \"4134\": [\n",
            "        \"Information\",\n",
            "        \"The patient you are attempting to access is resctricted. You must Break-the-Glass to view patient data.\",\n",
            "        \"The patient is a hospital employee so extra protection is in place such that only those who have provided a reason to access the chart can access all data. Note: these checks are configured by each health system and may vary based on their security policies.\"\n",
            "    ],\n",
            "    \"4135\": [\n",
            "        \"Fatal\",\n",
            "        \"Please try again tomorrow\",\n",
            "        \"Maximum document queries has been reached for the day.\"\n",
            "    ],\n",
            "    \"40000\": [\n",
            "        \"Fatal\",\n",
            "        \"Incoming table mapping error\",\n",
            "        \"When calling the FamilyMemberHistory API, a relationship type is not mapped.\"\n",
            "    ],\n",
            "    \"59100\": [\n",
            "        \"Information\",\n",
            "        \"Content invalid against the specification or a profile.\",\n",
            "        \"/api/FHIR/MedicationStatement?patient=el5.bHVk3kkdaA-5ezLMCHQ3&stat=1 where \\\"stat\\\" is an unknown parameter.\"\n",
            "    ],\n",
            "    \"59101\": [\n",
            "        \"Warning\",\n",
            "        \"Content invalid against the specification or a profile.\",\n",
            "        \"/api/FHIR/R4/MedicationRequest?patient=eHtj-Tb68iBKA8ZsY8Ioq7w3&category=homemeds where \\\"homemeds\\\" is an unknown category value.\"\n",
            "    ],\n",
            "    \"59102\": [\n",
            "        \"Fatal\",\n",
            "        \"Content invalid against the specification or a profile.\",\n",
            "        \"/api/FHIR/R4/MedicationRequest?patient=fakepatientid where the patient ID is invalid.\"\n",
            "    ],\n",
            "    \"59105\": [\n",
            "        \"Fatal\",\n",
            "        \"A structural issue in the content.\",\n",
            "        \"Invalid json syntax.\"\n",
            "    ],\n",
            "    \"59108\": [\n",
            "        \"Fatal\",\n",
            "        \"Required {element name} missing\",\n",
            "        \"/api/FHIR/STU3/Observation?patient=eTtVpZg2-.J.yFIP1qJbK4A3 where either the category or code parameter must be specified\"\n",
            "    ],\n",
            "    \"59109\": [\n",
            "        \"Information\",\n",
            "        \"Optional {element name} invalid: {element value}\",\n",
            "        \"/api/FHIR/STU3/Encounter?patient=e63wRTbPfr1p8UW81d8Seiw3&class=math where the optional class parameter is not a valid category option\"\n",
            "    ],\n",
            "    \"59111\": [\n",
            "        \"Fatal\",\n",
            "        \"Required {element name} invalid: {element value}\",\n",
            "        \"/api/FHIR/R4/Observation?patient=e63wRTbPfr1p8UW81d8Seiw3&category=labresults where the required category parameter is not a valid category option \"\n",
            "    ],\n",
            "    \"59133\": [\n",
            "        \"Information\",\n",
            "        \"Processing issues.\",\n",
            "        \"This error is logged when fewer data elements than required are included in the request or when the search exceeds 100 results.\"\n",
            "    ],\n",
            "    \"59141\": [\n",
            "        \"Fatal\",\n",
            "        \"An attempt was made to create a duplicate record.\",\n",
            "        \"AllergyIntolerance.Create was used to add an allergy to bees, but an allergy to bees already exists in the patient's chart.\"\n",
            "    ],\n",
            "    \"59144\": [\n",
            "        \"Fatal\",\n",
            "        \"The reference provided was not found.\",\n",
            "        \"/api/FHIR/STU3/Binary/eKqBNFDq6lyQ5SoH5lVu3oNUw1qX1ux2nVAxvjy9qQ9GqOvhmga08hSScb7nvH9ismBvLErBhIFIjKWeEpwa6kiO6w1ZAm5wt.LozW5CSo3s3 when this ID is not found.\"\n",
            "    ],\n",
            "    \"59159\": [\n",
            "        \"Fatal\",\n",
            "        \"The content/operation failed to pass a business rule, and so could not proceed.\",\n",
            "        \"A request missing a required parameter (such as the patient): Condition?category=diagnosis\"\n",
            "    ],\n",
            "    \"59177\": [\n",
            "        \"Fatal\",\n",
            "        \"An unexpected internal error has occurred.\",\n",
            "        \"Failed to file the LDA.\"\n",
            "    ],\n",
            "    \"59187\": [\n",
            "        \"Fatal\",\n",
            "        \"Failed to find any patient-entered flowsheets.\",\n",
            "        \"When using FHIR Observation.Create in a patient-facing app, the patient does not have any Patient-Entered Flowsheets assigned. \"\n",
            "    ],\n",
            "    \"59188\": [\n",
            "        \"Fatal\",\n",
            "        \"Failed to find one vital-signs flowsheet row by given codes.\",\n",
            "        \"When using FHIR Observation.Create, no single flowsheet row can be found by the codes provided in the request body. It can also be logged if the flowsheet row found is not mapped to the vital sign LOINC code (8716-3).\"\n",
            "    ],\n",
            "    \"59189\": [\n",
            "        \"Fatal\",\n",
            "        \"Failed to file the reading.\",\n",
            "        \"When using FHIR Observation.Create, the API fails to file any readings to the patient's chart.\"\n",
            "    ]\n",
            "}\n"
          ]
        }
      ],
      "source": [
        "# {\n",
        "#   '4100': ['Fatal', 'The resource request contained an invalid parmater', 'example']\n",
        "# }\n",
        "\n",
        "output = {}\n",
        "\n",
        "for table in soup.find_all('table', {'class': 'api-documentation-table'}):\n",
        "#     print(\"Found a table\")\n",
        "\n",
        "    headers = []\n",
        "    for header in table.find_all('th'):\n",
        "        headers.append(header.text)\n",
        "\n",
        "    if headers == ['Error Code', 'Severity', 'Description', 'Example']:\n",
        "        for row in table.find_all('tr'):\n",
        "            data = [x.text for x in list(row.find_all('td'))]\n",
        "            if len(data) != 0:\n",
        "                code = data[0]\n",
        "                severity = data[1]\n",
        "                description = data[2]\n",
        "                example = data[3]\n",
        "                output[code] = [severity, description, example]\n",
        "\n",
        "import json\n",
        "\n",
        "print(json.dumps(output, indent=4))"
      ]
    },
    {
      "cell_type": "code",
      "execution_count": null,
      "metadata": {
        "id": "OXLg8bFq_cI9"
      },
      "outputs": [],
      "source": [
        "import pandas as pd\n",
        "\n",
        "tables = pd.read_html('https://fhir.epic.com/Specifications?api=981')"
      ]
    },
    {
      "cell_type": "code",
      "execution_count": null,
      "metadata": {
        "id": "4I3KbLkO_cI-"
      },
      "outputs": [],
      "source": [
        "len(tables)"
      ]
    },
    {
      "cell_type": "code",
      "execution_count": null,
      "metadata": {
        "id": "YYGAx4QQ_cI-"
      },
      "outputs": [],
      "source": [
        "tables[6]"
      ]
    },
    {
      "cell_type": "code",
      "execution_count": null,
      "metadata": {
        "id": "PooN5VAk_cI_"
      },
      "outputs": [],
      "source": []
    },
    {
      "cell_type": "code",
      "execution_count": null,
      "metadata": {
        "id": "Hr2xg8BA_cI_"
      },
      "outputs": [],
      "source": [
        "r = requests.get('https://catalog.data.gov/dataset?res_format=CSV&tags=hospital')"
      ]
    },
    {
      "cell_type": "code",
      "execution_count": null,
      "metadata": {
        "id": "nF2l9Hv2_cI_"
      },
      "outputs": [],
      "source": [
        "r.status_code"
      ]
    },
    {
      "cell_type": "code",
      "execution_count": null,
      "metadata": {
        "id": "ZpUMcv3V_cI_"
      },
      "outputs": [],
      "source": [
        "print(r.text[0:1000])"
      ]
    },
    {
      "cell_type": "code",
      "execution_count": null,
      "metadata": {
        "id": "rcPyNtdz_cI_"
      },
      "outputs": [],
      "source": [
        "soup = BeautifulSoup(r.text)"
      ]
    },
    {
      "cell_type": "code",
      "execution_count": null,
      "metadata": {
        "id": "hEGtwhfQ_cI_"
      },
      "outputs": [],
      "source": [
        "for link in soup.find_all('h3'):\n",
        "    print(link.a.text)"
      ]
    },
    {
      "cell_type": "code",
      "execution_count": null,
      "metadata": {
        "id": "iGq-LDLd_cI_"
      },
      "outputs": [],
      "source": [
        "for element in soup.find_all('li', 'dataset-item'):\n",
        "    name = element.h3.text.strip()\n",
        "    resources = element.ul\n",
        "    for item in resources.find_all('li'):\n",
        "        if item.text.strip() == 'CSV':\n",
        "            print(\"Download information about '{}' from {}\".format(name,item.a.attrs['href']))\n",
        "\n",
        "\n"
      ]
    },
    {
      "cell_type": "markdown",
      "metadata": {
        "id": "v5zrsoj5_cI_"
      },
      "source": [
        "# Getting Table Data\n",
        "\n",
        "\n",
        "In this example, we're going to find an HTML table and extract the data from that table\n",
        "\n",
        "https://open.epic.com/Clinical/Allergy - Error Codes"
      ]
    },
    {
      "cell_type": "code",
      "execution_count": null,
      "metadata": {
        "id": "UQ4nD76t_cI_"
      },
      "outputs": [],
      "source": [
        "import requests\n",
        "from bs4 import BeautifulSoup\n",
        "import json"
      ]
    },
    {
      "cell_type": "code",
      "execution_count": null,
      "metadata": {
        "scrolled": true,
        "id": "JY35nAX5_cI_"
      },
      "outputs": [],
      "source": [
        "url = 'https://open.epic.com/Clinical/Allergy'\n",
        "r  = requests.get(url)\n",
        "data = r.text\n",
        "\n",
        "soup = BeautifulSoup(data)\n",
        "\n",
        "table = soup.find('table',id='errors')\n",
        "print(table)"
      ]
    },
    {
      "cell_type": "code",
      "execution_count": null,
      "metadata": {
        "id": "pe0UDmT7_cJA"
      },
      "outputs": [],
      "source": [
        "# In HTML tables, there is usually a <thead> section to tell us what the column headers are.\n",
        "# Let's load those into a simple list of headers[]\n",
        "headers = []\n",
        "for cell in table.thead.tr.find_all('th'):\n",
        "    headers.append(cell.text)\n",
        "\n",
        "headers"
      ]
    },
    {
      "cell_type": "code",
      "execution_count": null,
      "metadata": {
        "id": "i58ntlx4_cJA"
      },
      "outputs": [],
      "source": [
        "# In HTML tables, the rows are in a <tbody> section\n",
        "errors = {}\n",
        "for row in table.tbody.find_all('tr'):\n",
        "    colnum = 0\n",
        "    for cell in row.find_all('td'):\n",
        "        if colnum == 0:\n",
        "            error_cd = cell.text\n",
        "            errors.setdefault(error_cd, {})\n",
        "        else:\n",
        "            column = headers[colnum]\n",
        "            errors[error_cd][column] = cell.text\n",
        "        colnum += 1"
      ]
    },
    {
      "cell_type": "code",
      "execution_count": null,
      "metadata": {
        "id": "8RbCduBg_cJA"
      },
      "outputs": [],
      "source": [
        "print(json.dumps(errors, indent=4))"
      ]
    },
    {
      "cell_type": "code",
      "execution_count": null,
      "metadata": {
        "id": "57lCwBEY_cJA"
      },
      "outputs": [],
      "source": [
        "errors.get('4119')"
      ]
    },
    {
      "cell_type": "code",
      "execution_count": null,
      "metadata": {
        "id": "2xh14Ymj_cJB"
      },
      "outputs": [],
      "source": [
        "errors.get('4119')['Severity']"
      ]
    },
    {
      "cell_type": "markdown",
      "metadata": {
        "id": "ZJ2G5HmC_cJB"
      },
      "source": [
        "## Reading HTML Tables with Pandas\n",
        "\n",
        "Pandas has the ability to read HTML, too.  In ideal circumstances, it will scour whatever page you give it and find all of the tables there.  The result from `read_html()` will be a list of dataframes.\n",
        "\n",
        "https://pandas.pydata.org/pandas-docs/version/0.23.4/generated/pandas.read_html.html"
      ]
    },
    {
      "cell_type": "code",
      "execution_count": null,
      "metadata": {
        "id": "NQcAJPaW_cJC"
      },
      "outputs": [],
      "source": [
        "import pandas as pd"
      ]
    },
    {
      "cell_type": "code",
      "execution_count": null,
      "metadata": {
        "id": "wj3aCPBD_cJC"
      },
      "outputs": [],
      "source": [
        "dfs = pd.read_html('https://open.epic.com/Clinical/Allergy')"
      ]
    },
    {
      "cell_type": "code",
      "execution_count": null,
      "metadata": {
        "id": "Mb5qxLTX_cJC"
      },
      "outputs": [],
      "source": [
        "dfs"
      ]
    },
    {
      "cell_type": "code",
      "execution_count": null,
      "metadata": {
        "id": "M3fjNoEK_cJC"
      },
      "outputs": [],
      "source": [
        "dfs[4]"
      ]
    },
    {
      "cell_type": "code",
      "execution_count": null,
      "metadata": {
        "id": "elHAjOJu_cJD"
      },
      "outputs": [],
      "source": []
    }
  ],
  "metadata": {
    "kernelspec": {
      "display_name": "Python 3",
      "language": "python",
      "name": "python3"
    },
    "language_info": {
      "codemirror_mode": {
        "name": "ipython",
        "version": 3
      },
      "file_extension": ".py",
      "mimetype": "text/x-python",
      "name": "python",
      "nbconvert_exporter": "python",
      "pygments_lexer": "ipython3",
      "version": "3.6.7"
    },
    "colab": {
      "provenance": []
    }
  },
  "nbformat": 4,
  "nbformat_minor": 0
}