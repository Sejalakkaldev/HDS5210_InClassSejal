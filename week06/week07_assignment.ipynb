{
  "cells": [
    {
      "cell_type": "markdown",
      "metadata": {
        "id": "yPh8BqXu1ZxS"
      },
      "source": [
        "# Week 7 Assignment\n",
        "\n",
        "We've been working with different types of data structures in Python (dictionary, list, etc), how those are represented in JSON documents, and how to write code to access specific data elements. In this week's assignment, you will need to create your own JSON document to store information about yourself and the grades you've received from week 1 to week 4 and the week 6 quiz.  That is, everything you should have received a grade for.  Then you'll need to show me you know how to navigate the JSON in that file.\n",
        "\n",
        "Different from what we've done in the past, you do not have to write any functions or include any docstrings.  Just create some JSON and write some code.\n",
        "\n",
        "---"
      ]
    },
    {
      "cell_type": "markdown",
      "metadata": {
        "id": "JuAomNGB1ZxT"
      },
      "source": [
        "## 7.1 Create a JSON file\n",
        "\n",
        "Create a JSON file that contains your name, email, year you were born, all of the grades you've received back so far, and a comment about what you thought was most challenging on each of those assignments.  This can be any structure you choose, but make sure it uses a dictionary and a list, and has at least two levels of hierarchy.  That is, it can't just be one big long list."
      ]
    },
    {
      "cell_type": "markdown",
      "metadata": {
        "id": "lz51v5tw1ZxU"
      },
      "source": [
        "First, explain how your data structure is going to look..."
      ]
    },
    {
      "cell_type": "markdown",
      "metadata": {
        "id": "NBQcKYn-1ZxU"
      },
      "source": [
        "An email address birth year a list of tasks for weeks one through four are all contained in sejal akkaldevs json file, every assignment is listed as an item under the assignments key each thing has a title sejals grade and a note explaining what was difficult, for instance week 1 included learning how to utilize github and program in python week 2 covered the challenges of bmi and text manipulation week 3 covered breaking out of loops and week 4 covered organizing json data structures a dictionary with nested lists and dictionaries that make it easier to rationally organize and retrieving the details for each assignment."
      ]
    },
    {
      "cell_type": "markdown",
      "metadata": {
        "id": "tMQyjvfU1ZxU"
      },
      "source": [
        "Then put the actual JSON you've created inside the multiline string below..."
      ]
    },
    {
      "cell_type": "code",
      "execution_count": 39,
      "metadata": {
        "id": "uRp6q9Rc1ZxU"
      },
      "outputs": [],
      "source": [
        "hds5210 = \"\"\"\n",
        "{\n",
        "    \"me\": {\n",
        "        \"name\": \"sejal akkaldev\",\n",
        "        \"email\": \"sejalmudiraj12@gmail.com\",\n",
        "        \"year_born\": 1999,\n",
        "        \"grades\": {\n",
        "            \"assignment1\": 10,\n",
        "            \"assignment2\": 8,\n",
        "            \"assignment3\": 10,\n",
        "            \"assignment4\": 13,\n",
        "            \"assignment5\": \"submitted but Marks not assigned\",\n",
        "            \"assignment6\": \"submitted today\"\n",
        "        },\n",
        "        \"Toughest_assignment\": \"Week-3 i.e break out of a loop using a specific command\"\n",
        "    }\n",
        "}\n",
        "\"\"\""
      ]
    },
    {
      "cell_type": "markdown",
      "metadata": {
        "id": "b69p2bmA1ZxV"
      },
      "source": [
        "## 7.2 Do something with your JSON\n",
        "\n",
        "Now use Python code to do something with the Json above.  Turn it into English text, but make sure that you use at least one loop to access some dict or list content of your JSON.  Below, I've provided some basic code to read in the string above as JSON and return a Python object.  Your job is to work with that data structure and print out the important information like your name, email, and how you did on each assignment."
      ]
    },
    {
      "cell_type": "code",
      "execution_count": 40,
      "metadata": {
        "collapsed": true,
        "id": "99d2g7RO1ZxV",
        "outputId": "a7842f08-0816-4fb2-ec13-aad1d12492ec",
        "colab": {
          "base_uri": "https://localhost:8080/"
        }
      },
      "outputs": [
        {
          "output_type": "stream",
          "name": "stdout",
          "text": [
            "My name is sejal akkaldev, and my email is sejalmudiraj12@gmail.com.\n",
            "I was born in 1999.\n",
            "Here are the grades I've received so far:\n",
            "assignment1: 10\n",
            "assignment2: 8\n",
            "assignment3: 10\n",
            "assignment4: 13\n",
            "assignment5: submitted but Marks not assigned\n",
            "assignment6: submitted today\n",
            "The Toughest assignment I've had so far is Week-3 i.e break out of a loop using a specific command\n"
          ]
        }
      ],
      "source": [
        "import json\n",
        "\n",
        "\n",
        "\n",
        "info = json.loads(hds5210)\n",
        "\n",
        "# ... (rest of your code remains the same)\n",
        "\n",
        "# Load the JSON data into a Python object\n",
        "\n",
        "# Extract personal information\n",
        "name = info[\"me\"].get(\"name\", \"sejal akkaldev\")\n",
        "email = info[\"me\"].get(\"email\", \"sejalmudiraj12@gmail.com\")\n",
        "year_born = info[\"me\"].get(\"year_born\", 1999)\n",
        "grades = info[\"me\"].get(\"grades\", {})\n",
        "\n",
        "# Extract assignment information\n",
        "assignment1 = grades.get(\"assignment1\", 10)\n",
        "assignment2 = grades.get(\"assignment2\", 8)\n",
        "assignment3 = grades.get(\"assignment3\", 10)\n",
        "assignment4 = grades.get(\"assignment4\", 13)\n",
        "assignment5 = grades.get(\"assignment5\", \"submitted but Marks not assigned\")\n",
        "assignment6 = grades.get(\"assighnment6\",\"submitted today\")\n",
        "Toughest_assignment = info[\"me\"].get(\"Toughest_assignment\", \"Week-3 i.e break out of a loop using a specific command\")\n",
        "\n",
        "# Start building the output text\n",
        "output_text = f\"My name is sejal akkaldev, and my email is sejalmudiraj12@gmail.com.\\n\"\n",
        "output_text += f\"I was born in {1999}.\\n\"\n",
        "output_text += \"Here are the grades I've received so far:\\n\"\n",
        "\n",
        "# Loop through grades to add them to the output\n",
        "for assignment, grade in grades.items():\n",
        "    output_text += f\"{assignment}: {grade}\\n\"\n",
        "\n",
        "output_text += f\"The Toughest assignment I've had so far is Week-3 i.e break out of a loop using a specific command\"\n",
        "\n",
        "# Print the final output\n",
        "print(output_text)"
      ]
    },
    {
      "cell_type": "markdown",
      "metadata": {
        "id": "YEczxG1O1ZxV"
      },
      "source": [
        "## 7.3 Reflect\n",
        "\n",
        "Write a paragraph on any reflections you have. Was this hard? Easy?  What parts were most challenging or easiest? What did you like or dislike about the assignment?  Share whatever important thoughts you have abou this assignment."
      ]
    },
    {
      "cell_type": "markdown",
      "metadata": {
        "id": "__ERNEQd1ZxV"
      },
      "source": [
        "This project taught me a good-natured practice of data organization and representation with JSON and Python. Setting up JSON structures and loading data into Python did not prove too complicated. However, figuring out a proper structure that would be both hierarchical and transparent did take some thought. I appreciated that the output became a more dynamic process, as one could get the grade for each assignment and post it using a loop. Checking the syntax yet ensuring that I referenced nested items properly proved to be quite difficult. In addition, I enjoyed how this project refreshed my knowledge of JSON and Python data processing as well as demonstrated the scope of proper data management. Quite an interactive approach toward learning was this!"
      ]
    },
    {
      "cell_type": "markdown",
      "metadata": {
        "id": "R2QuKb9R1ZxV"
      },
      "source": [
        "---\n",
        "\n",
        "# Example\n",
        "\n",
        "Below is an example of something similar, but this uses information my and my friend's kids instead of grades."
      ]
    },
    {
      "cell_type": "code",
      "execution_count": 41,
      "metadata": {
        "id": "wjF9ZYO91ZxV",
        "outputId": "e752c0c1-9852-43f1-d6e3-eaf85cf96e45",
        "colab": {
          "base_uri": "https://localhost:8080/"
        }
      },
      "outputs": [
        {
          "output_type": "stream",
          "name": "stdout",
          "text": [
            "Hi, my name is Paul. I've got 3 kids. Their names are Ellie, Ada, Teddy.\n",
            "My friend, Anny has 1 kids. That's fewer than me. Their names are 1\n"
          ]
        }
      ],
      "source": [
        "hds5210 = \"\"\"\n",
        "{\n",
        "    \"me\": {\n",
        "        \"name\": \"Paul\",\n",
        "        \"kids\": [\"Ellie\", \"Ada\", \"Teddy\"]\n",
        "    },\n",
        "    \"friend\": {\n",
        "        \"name\": \"Anny\",\n",
        "        \"kids\": [\"Abby\"]\n",
        "    }\n",
        "}\n",
        "\"\"\"\n",
        "\n",
        "import json\n",
        "\n",
        "info = json.loads(hds5210)\n",
        "\n",
        "me = info[\"me\"][\"name\"]\n",
        "my_kids_count = len(info[\"me\"][\"kids\"])\n",
        "kids_list = \", \".join(info[\"me\"][\"kids\"])\n",
        "friend = info[\"friend\"][\"name\"]\n",
        "friends_kid_count = len(info[\"friend\"][\"kids\"])\n",
        "friend_kids = \", \".join(info[\"friend\"][\"kids\"])\n",
        "compare = \"more\" if friends_kid_count > my_kids_count else \"fewer\"\n",
        "\n",
        "print(f\"Hi, my name is {me}. I've got {my_kids_count} kids. Their names are {kids_list}.\")\n",
        "print(f\"My friend, {friend} has {friends_kid_count} kids. That's {compare} than me. Their names are {friends_kid_count}\")"
      ]
    }
  ],
  "metadata": {
    "kernelspec": {
      "display_name": "Python 3",
      "language": "python",
      "name": "python3"
    },
    "language_info": {
      "codemirror_mode": {
        "name": "ipython",
        "version": 3
      },
      "file_extension": ".py",
      "mimetype": "text/x-python",
      "name": "python",
      "nbconvert_exporter": "python",
      "pygments_lexer": "ipython3",
      "version": "3.9.16"
    },
    "colab": {
      "provenance": []
    }
  },
  "nbformat": 4,
  "nbformat_minor": 0
}