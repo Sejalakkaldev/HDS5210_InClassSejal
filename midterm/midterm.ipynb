{
 "cells": [
  {
   "cell_type": "markdown",
   "metadata": {},
   "source": [
    "### Mid-term for HDS5210\n",
    "\n",
    "Your supervisor is concerned about 4-year survival risks for COPD. She has asked for you to do some analysis using a new metric, BODE. BODE is an improvement on a previous metric and promises to provide insight on survival risks. \n",
    "\n",
    "BODE is defined here. https://www.mdcalc.com/calc/3916/bode-index-copd-survival#evidence\n",
    "\n",
    "Your assignment is to create a BODE calculation, use it to calculate BODE scores and BODE survival rates for a group of patients. Then we want to evaluate the average BODE scores and BODE survival rates for each area hospital. \n",
    "\n",
    "Your patient input file will have the following columns:\n",
    "NAME,SSN,LANGUAGE,JOB,HEIGHT_M,WEIGHT_KG,fev_pct,dyspnea_description,distance_in_meters,hospital\n",
    "\n",
    "BODE calculations require a BMI value, so you will have to create a function for it.\n",
    "\n",
    "Your output should be in the form of two CSV files, patient_output.csv and hospital_output.csv. \n",
    "\n",
    "Patient_output will have the following columns:\n",
    "NAME,BODE_SCORE,BODE_RISK,HOSPITAL\n",
    "\n",
    "Hospital output will have the following columns:\n",
    "HOSPITAL_NAME, COPD_COUNT, PCT_OF_COPD_CASES_OVER_BEDS, AVG_SCORE, AVG_RISK\n",
    "\n",
    "Each function you create should have documentation and a suitable number of test cases. If the input data could be wrong, make sure to raise a Value Error. \n",
    "\n",
    "For this assignment, use the doctest, json, and csv libraries. Pandas is not allowed for this assignment."
   ]
  },
  {
   "cell_type": "code",
   "execution_count": null,
   "metadata": {},
   "outputs": [],
   "source": [
    "import doctest\n",
    "import json\n",
    "import csv"
   ]
  },
  {
   "cell_type": "markdown",
   "metadata": {},
   "source": [
    "### Step 1: Calculate BMI"
   ]
  },
  {
   "cell_type": "code",
   "execution_count": null,
   "metadata": {},
   "outputs": [],
   "source": []
  },
  {
   "cell_type": "markdown",
   "metadata": {},
   "source": [
    "### Step 2: Calculate BODE Score"
   ]
  },
  {
   "cell_type": "code",
   "execution_count": null,
   "metadata": {},
   "outputs": [],
   "source": []
  },
  {
   "cell_type": "markdown",
   "metadata": {},
   "source": [
    "### Step 3: Calculate BODE Risk"
   ]
  },
  {
   "cell_type": "code",
   "execution_count": null,
   "metadata": {},
   "outputs": [],
   "source": []
  },
  {
   "cell_type": "markdown",
   "metadata": {},
   "source": [
    "### Step 4: Load Hospital Data"
   ]
  },
  {
   "cell_type": "code",
   "execution_count": null,
   "metadata": {},
   "outputs": [],
   "source": []
  },
  {
   "cell_type": "markdown",
   "metadata": {},
   "source": [
    "### Step 5: Main business logic\n",
    "\n",
    "Call BODE Score, BODE Risk functions for each patient.\n",
    "\n",
    "For each hospital, calculate Avg BODE score and Avg BODE risk and count the number of cases for each hospital."
   ]
  },
  {
   "cell_type": "code",
   "execution_count": null,
   "metadata": {},
   "outputs": [],
   "source": [
    "patient_csv = \"patient.csv\"\n",
    "hospital_json = \"hospitals.json\"\n",
    "\n",
    "patient_output_file = \"patient_output.csv\"\n",
    "hospital_output_file = \"hospital_output.csv\"\n",
    "\n",
    "###\n",
    "# Your logic here\n",
    "###\n",
    "patient_results = []\n",
    "hospital_output_list = []\n",
    "\n",
    "#Write Patient_output.csv\n",
    "with open(patient_output_file, 'w', newline='') as csvfile:\n",
    "    writer = csv.writer(csvfile)\n",
    "    writer.writerows(patient_results)\n",
    "#Write Hospital_output.csv\n",
    "with open(hospital_output_file, 'w', newline='') as csvfile:\n",
    "    writer = csv.writer(csvfile)\n",
    "    writer.writerows(hospital_output_list)"
   ]
  }
 ],
 "metadata": {
  "language_info": {
   "name": "python"
  }
 },
 "nbformat": 4,
 "nbformat_minor": 2
}
