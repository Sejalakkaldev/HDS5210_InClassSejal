{
  "cells": [
    {
      "cell_type": "markdown",
      "metadata": {
        "id": "D62sZTFLfByu"
      },
      "source": [
        "Create a list of all of the integers from 1 to 100 using range"
      ]
    },
    {
      "cell_type": "code",
      "execution_count": 29,
      "metadata": {
        "id": "awEcIW93fByv"
      },
      "outputs": [],
      "source": [
        "list_of_ints = []\n",
        "\n",
        "### Solution goes here\n",
        "list_of_ints = list(range(1,101))\n",
        "### End Solution\n",
        "\n",
        "# Assertion to check that the solution works\n",
        "assert (type(list_of_ints)==list)\n",
        "assert (len(list_of_ints) == 100)\n",
        "assert (list_of_ints[0] == 1)\n",
        "assert (list_of_ints[99] == 100)\n",
        "### End Solution\n"
      ]
    },
    {
      "cell_type": "code",
      "source": [
        "from inspect import modulesbyfile\n",
        "names = [('Donald', 'Duck'),\n",
        "         ('Daisy', 'Duck'),\n",
        "         ('Mickey', 'Mouse'),\n",
        "         ('Minnie', 'Mouse'),\n",
        "         ('Adam', 'Doyle'),\n",
        "         ('Xavier', 'Doyle'),\n",
        "         ('Oliver', 'Doyle')]\n",
        "\n",
        "for first, last in names :\n",
        "   print(first + \" is a \" + last)"
      ],
      "metadata": {
        "id": "LOBObDK_kOsB",
        "outputId": "e0ce1d46-5cbd-4f9a-dfef-d32b28ff183b",
        "colab": {
          "base_uri": "https://localhost:8080/"
        }
      },
      "execution_count": 49,
      "outputs": [
        {
          "output_type": "stream",
          "name": "stdout",
          "text": [
            "Donald is a Duck\n",
            "Daisy is a Duck\n",
            "Mickey is a Mouse\n",
            "Minnie is a Mouse\n",
            "Adam is a Doyle\n",
            "Xavier is a Doyle\n",
            "Oliver is a Doyle\n"
          ]
        }
      ]
    },
    {
      "cell_type": "code",
      "source": [
        "a_list = []\n",
        "for i in range(1,101):\n",
        "    a_list.append(i)\n",
        "print(a_list)"
      ],
      "metadata": {
        "id": "Oi0NIODEpkeM",
        "outputId": "6bd9ab76-737a-4b03-f6b0-e9c00ec73df7",
        "colab": {
          "base_uri": "https://localhost:8080/"
        }
      },
      "execution_count": 50,
      "outputs": [
        {
          "output_type": "stream",
          "name": "stdout",
          "text": [
            "[1, 2, 3, 4, 5, 6, 7, 8, 9, 10, 11, 12, 13, 14, 15, 16, 17, 18, 19, 20, 21, 22, 23, 24, 25, 26, 27, 28, 29, 30, 31, 32, 33, 34, 35, 36, 37, 38, 39, 40, 41, 42, 43, 44, 45, 46, 47, 48, 49, 50, 51, 52, 53, 54, 55, 56, 57, 58, 59, 60, 61, 62, 63, 64, 65, 66, 67, 68, 69, 70, 71, 72, 73, 74, 75, 76, 77, 78, 79, 80, 81, 82, 83, 84, 85, 86, 87, 88, 89, 90, 91, 92, 93, 94, 95, 96, 97, 98, 99, 100]\n"
          ]
        }
      ]
    },
    {
      "cell_type": "code",
      "source": [
        "set_of_numbers = set(range(1,101))\n",
        "print(set_of_numbers)"
      ],
      "metadata": {
        "id": "TjoasfitqK04",
        "outputId": "5c6115a0-799d-48a1-eeca-91bae183c0f8",
        "colab": {
          "base_uri": "https://localhost:8080/"
        }
      },
      "execution_count": 51,
      "outputs": [
        {
          "output_type": "stream",
          "name": "stdout",
          "text": [
            "{1, 2, 3, 4, 5, 6, 7, 8, 9, 10, 11, 12, 13, 14, 15, 16, 17, 18, 19, 20, 21, 22, 23, 24, 25, 26, 27, 28, 29, 30, 31, 32, 33, 34, 35, 36, 37, 38, 39, 40, 41, 42, 43, 44, 45, 46, 47, 48, 49, 50, 51, 52, 53, 54, 55, 56, 57, 58, 59, 60, 61, 62, 63, 64, 65, 66, 67, 68, 69, 70, 71, 72, 73, 74, 75, 76, 77, 78, 79, 80, 81, 82, 83, 84, 85, 86, 87, 88, 89, 90, 91, 92, 93, 94, 95, 96, 97, 98, 99, 100}\n"
          ]
        }
      ]
    },
    {
      "cell_type": "code",
      "source": [
        "set_of_number = {}\n",
        "\n",
        "from random import randrange\n",
        "a_list = []\n",
        "for number in range(100) :\n",
        "  a_list.append(randrange(1,101))"
      ],
      "metadata": {
        "id": "JBtUNIagt5oH"
      },
      "execution_count": 59,
      "outputs": []
    }
  ],
  "metadata": {
    "kernelspec": {
      "display_name": "Python 3",
      "language": "python",
      "name": "python3"
    },
    "language_info": {
      "codemirror_mode": {
        "name": "ipython",
        "version": 3
      },
      "file_extension": ".py",
      "mimetype": "text/x-python",
      "name": "python",
      "nbconvert_exporter": "python",
      "pygments_lexer": "ipython3",
      "version": "3.10.11"
    },
    "colab": {
      "provenance": []
    }
  },
  "nbformat": 4,
  "nbformat_minor": 0
}