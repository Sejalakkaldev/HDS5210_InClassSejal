{
  "cells": [
    {
      "cell_type": "code",
      "execution_count": 7,
      "metadata": {
        "id": "QbXQ_q5JuKnz"
      },
      "outputs": [],
      "source": [
        "import doctest\n",
        "from datetime import date\n",
        "my_encounters = {\n",
        "    \"E1234\": { \"admit\": date(2019,1,3), \"diagnosis\": \"COPD\", \"discharge\": date(2019,1,8) },\n",
        "    \"E8342\": { \"admit\": date(2019,1,5), \"diagnosis\": \"Hypertension\", \"discharge\": date(2019,1,9) },\n",
        "    \"E9231\": { \"admit\": date(2019,1,12), \"diagnosis\": \"Anxiety\", \"discharge\": date(2019,1,13) },\n",
        "    \"E8333\": { \"admit\": date(2019,1,15), \"diagnosis\": \"Observation\", \"discharge\": date(2019,1,16) },\n",
        "    \"E3342\": { \"admit\": date(2019,1,4), \"diagnosis\": \"Anxiety\", \"discharge\": date(2019,1,4)}\n",
        "}\n",
        "\n",
        "def los(admit, discharge, diagnosis) :\n",
        "    \"\"\"(date, date, str) -> int\n",
        "    Returns length of stay based on standard rules\n",
        "\n",
        "    >>> los(date(2019,1,3), date(2019,1,8), \"Things\")\n",
        "    5\n",
        "    >>> los(date(2019,1,5), date(2019,1,9), \"observation\")\n",
        "    0\n",
        "\n",
        "    \"\"\"\n",
        "    return (discharge - admit).days\n",
        "\n",
        "def average_los(encounters) :\n",
        "    \"\"\"(dict) -> float\n",
        "    Compute the average length of stay over all visits\n",
        "\n",
        "    >>> average_los({\"E8342\": { \"admit\": date(2019,1,5), \"diagnosis\": \"Hypertension\", \"discharge\": date(2019,1,10) },\"E8333\": { \"admit\": date(2019,1,15), \"diagnosis\": \"Observation\", \"discharge\": date(2019,1,16) },\"E3342\": { \"admit\": date(2019,1,4), \"diagnosis\": \"Anxiety\", \"discharge\": date(2019,1,4)}})\n",
        "    2.0\n",
        "    \"\"\"\n",
        "    total_los =0\n",
        "\n",
        "    #THIS DOESN'T WORK now . . . needs more logic\n",
        "    total_encounters = len(encounters)\n",
        "\n",
        "    if total_encounters == 0 :\n",
        "        return 0\n",
        "\n",
        "    for encounter in encounters.values() :\n",
        "        total_los += los(encounter[\"admit\"], encounter[\"discharge\"], encounter[\"diagnosis\"])\n",
        "        if loss_value == 0 :\n",
        "            #total_encounters = total encounters = -1\n",
        "            total_encounters = 1\n",
        "\n",
        "            ### ALTERNATIVELY WE COULD HAVE SET TOTAL_ENCOUNTERS = 0 before the loop and incremented for values > 0\n",
        "            total_loss += loss_value\n",
        "\n",
        "\n",
        "          ###WILL NEED TO FIX DOX TEST VALUES\n",
        "\n",
        "    return total_los/total_encounters\n"
      ]
    },
    {
      "cell_type": "code",
      "execution_count": null,
      "metadata": {
        "id": "uujtKtdIuKn6",
        "outputId": "319f807c-e476-4f1f-e878-e9206deb77ee"
      },
      "outputs": [
        {
          "name": "stdout",
          "output_type": "stream",
          "text": [
            "Finding tests in NoName\n",
            "Trying:\n",
            "    los(date(2019,1,3), date(2019,1,8))\n",
            "Expecting:\n",
            "    5\n",
            "ok\n",
            "Finding tests in NoName\n",
            "Trying:\n",
            "    average_los({\"E8342\": { \"admit\": date(2019,1,5), \"diagnosis\": \"Hypertension\", \"discharge\": date(2019,1,10) },\"E8333\": { \"admit\": date(2019,1,15), \"diagnosis\": \"Observation\", \"discharge\": date(2019,1,16) },\"E3342\": { \"admit\": date(2019,1,4), \"diagnosis\": \"Anxiety\", \"discharge\": date(2019,1,4)}})\n",
            "Expecting:\n",
            "    2.0\n",
            "ok\n"
          ]
        }
      ],
      "source": [
        "doctest.run_docstring_examples(los, globals(), verbose=True)\n",
        "doctest.run_docstring_examples(average_los, globals(), verbose=True)"
      ]
    },
    {
      "cell_type": "markdown",
      "metadata": {
        "id": "m16rsskFuKn8"
      },
      "source": [
        "### Abstraction\n",
        "\n",
        "Your supervisor has asked you to implement a new rule that patients with a diagnosis of observation should have a LOS of 0.\n",
        "Patients with a LOS of 0 should not be counted towards the average LOS.\n",
        "\n",
        "Change the code above to implement these rules"
      ]
    }
  ],
  "metadata": {
    "kernelspec": {
      "display_name": "Python 3",
      "language": "python",
      "name": "python3"
    },
    "language_info": {
      "codemirror_mode": {
        "name": "ipython",
        "version": 3
      },
      "file_extension": ".py",
      "mimetype": "text/x-python",
      "name": "python",
      "nbconvert_exporter": "python",
      "pygments_lexer": "ipython3",
      "version": "3.10.11"
    },
    "colab": {
      "provenance": []
    }
  },
  "nbformat": 4,
  "nbformat_minor": 0
}