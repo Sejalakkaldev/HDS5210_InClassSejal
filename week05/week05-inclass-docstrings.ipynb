{
  "cells": [
    {
      "cell_type": "code",
      "execution_count": 15,
      "metadata": {
        "id": "U1nHXIw9pFoa"
      },
      "outputs": [],
      "source": [
        "import doctest"
      ]
    },
    {
      "cell_type": "code",
      "execution_count": 20,
      "metadata": {
        "id": "JFSIdw2ppFob"
      },
      "outputs": [],
      "source": [
        "\n",
        "    def LACE(length_of_stay, acute_flag, charlson, ed_visits):\n",
        "\n",
        "   \"\"\" (int, bool, int, int) -> int\n",
        "   fancy description of the function including how we translate variables to score values\n",
        "   Los | score\n",
        "   3,= | Los\n",
        "\n",
        "\n",
        "   >>> LACE(0, False, 0,0) # Changed false to False\n",
        "   0\n",
        "   >>> LACE(0, True, 0,0) # Changed Lace to LACE\n",
        "   3\n",
        "   \"\"\"\n",
        "   if length_of_stay <= 3 :\n",
        "        stay_score = length_of_stay\n",
        "   elif length_of_stay >=4 and length_of_stay <= 6 :\n",
        "        stay_score = 4\n",
        "   elif length_of_stay >=7 and length_of_stay <= 13 :\n",
        "        stay_score = 5\n",
        "   else:\n",
        "        stay_score = 7\n",
        "\n",
        "   acute_score = 0\n",
        "   if acute_flag :\n",
        "        acute_score = 3\n",
        "\n",
        "   if charlson >= 4 :\n",
        "        charlson_score = 5\n",
        "   else :\n",
        "        charlson_score = charlson\n",
        "\n",
        "   if ed_visits >= 4 :\n",
        "        visit_score = 4\n",
        "   else :\n",
        "        visit_score = ed_visits\n",
        "\n",
        "   score = stay_score + acute_score + charlson_score + visit_score\n",
        "\n",
        "   return score\n"
      ]
    },
    {
      "cell_type": "markdown",
      "metadata": {
        "id": "5vBlARP9pFoa"
      },
      "source": [
        "### DocStrings\n",
        "1. Write a DocString to describe the functionality of this function\n",
        "2. Write a set of tests that exercise the function.\n",
        "3. Call doctest and fix any errors"
      ]
    },
    {
      "cell_type": "code",
      "execution_count": null,
      "metadata": {
        "id": "yeaBL5uhpFoc"
      },
      "outputs": [],
      "source": [
        "doctest.run_docstring_examples(LACE, globals(), verbose=True)"
      ]
    }
  ],
  "metadata": {
    "language_info": {
      "name": "python"
    },
    "colab": {
      "provenance": []
    },
    "kernelspec": {
      "name": "python3",
      "display_name": "Python 3"
    }
  },
  "nbformat": 4,
  "nbformat_minor": 0
}