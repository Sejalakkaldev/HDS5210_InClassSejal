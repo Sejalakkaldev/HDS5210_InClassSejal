{
  "cells": [
    {
      "cell_type": "markdown",
      "metadata": {
        "id": "aqdy3x6TKObb"
      },
      "source": [
        "Use `%matplotlib notebook` to make plots interactive"
      ]
    },
    {
      "cell_type": "markdown",
      "metadata": {
        "id": "sDOY43-IKObc"
      },
      "source": [
        "Before getting started, copy flu_2016_2017.csv into COLAB"
      ]
    },
    {
      "cell_type": "code",
      "execution_count": 1,
      "metadata": {
        "id": "UGZdK6bjKObc"
      },
      "outputs": [],
      "source": [
        "%matplotlib inline"
      ]
    },
    {
      "cell_type": "markdown",
      "metadata": {
        "id": "8liZCw1kKObc"
      },
      "source": [
        "Plotting from pandas\n",
        "---"
      ]
    },
    {
      "cell_type": "code",
      "execution_count": 2,
      "metadata": {
        "id": "8f34ndA8KObd"
      },
      "outputs": [],
      "source": [
        "import pandas as pd\n",
        "import seaborn as sns\n",
        "\n",
        "\n",
        "data = pd.read_csv('flu_2016_2017.csv', quotechar='\"')\n"
      ]
    },
    {
      "cell_type": "code",
      "execution_count": 3,
      "metadata": {
        "id": "mxIMFs__KObd",
        "outputId": "6a3fd53a-1940-4911-cee8-b5759c11516c",
        "colab": {
          "base_uri": "https://localhost:8080/"
        }
      },
      "outputs": [
        {
          "output_type": "execute_result",
          "data": {
            "text/plain": [
              "array(['Afghanistan', 'Albania', 'Algeria', 'Argentina', 'Armenia',\n",
              "       'Australia', 'Austria', 'Bahrain', 'Bangladesh', 'Barbados',\n",
              "       'Belarus', 'Belgium', 'Belize', 'Bhutan',\n",
              "       'Bolivia (Plurinational State of)', 'Bosnia and Herzegovina',\n",
              "       'Brazil', 'Bulgaria', 'Burkina Faso', 'Cambodia', 'Cameroon',\n",
              "       'Canada', 'Central African Republic', 'Chile', 'China', 'Colombia',\n",
              "       'Costa Rica', 'Croatia', 'Cuba', 'Czechia',\n",
              "       'Democratic Republic of the Congo', 'Denmark',\n",
              "       'Dominican Republic', 'Ecuador', 'Egypt', 'El Salvador', 'Estonia',\n",
              "       'Ethiopia', 'Fiji', 'Finland', 'France', 'French Guiana',\n",
              "       'Georgia', 'Germany', 'Ghana', 'Greece', 'Guadeloupe', 'Guatemala',\n",
              "       'Haiti', 'Honduras', 'Hungary', 'Iceland', 'India', 'Indonesia',\n",
              "       'Iran (Islamic Republic of)', 'Iraq', 'Ireland', 'Israel', 'Italy',\n",
              "       'Jamaica', 'Japan', 'Jordan', 'Kazakhstan', 'Kenya',\n",
              "       'Kosovo (in accordance with Security Council resolution 1244 (1999))',\n",
              "       'Kyrgyzstan', 'Latvia', 'Lebanon', 'Lithuania', 'Luxembourg',\n",
              "       'Madagascar', 'Malaysia', 'Maldives', 'Mali', 'Malta',\n",
              "       'Martinique', 'Mauritania', 'Mauritius', 'Mexico', 'Mongolia',\n",
              "       'Montenegro', 'Morocco', 'Mozambique', 'Myanmar', 'Nepal',\n",
              "       'Netherlands', 'New Caledonia', 'New Zealand', 'Nicaragua',\n",
              "       'Niger', 'Nigeria', 'Norway', 'Oman', 'Pakistan', 'Panama',\n",
              "       'Papua New Guinea', 'Paraguay', 'Peru', 'Philippines', 'Poland',\n",
              "       'Portugal', 'Qatar', 'Republic of Korea', 'Republic of Moldova',\n",
              "       'Romania', 'Russian Federation', 'Rwanda', 'Senegal', 'Serbia',\n",
              "       'Sierra Leone', 'Singapore', 'Slovakia', 'Slovenia',\n",
              "       'South Africa', 'Spain', 'Sri Lanka', 'Suriname', 'Sweden',\n",
              "       'Switzerland', 'Thailand',\n",
              "       'The former Yugoslav Republic of Macedonia', 'Togo', 'Tunisia',\n",
              "       'Turkey', 'Turkmenistan', 'Uganda', 'Ukraine',\n",
              "       'United Kingdom of Great Britain and Northern Ireland',\n",
              "       'United Republic of Tanzania', 'United States of America',\n",
              "       'Uruguay', 'Uzbekistan', 'Venezuela (Bolivarian Republic of)',\n",
              "       'Viet Nam', 'Zambia'], dtype=object)"
            ]
          },
          "metadata": {},
          "execution_count": 3
        }
      ],
      "source": [
        "data['Country'].unique()"
      ]
    },
    {
      "cell_type": "code",
      "execution_count": 4,
      "metadata": {
        "id": "0iHOfLNMKObd",
        "outputId": "c5f69bca-2851-4bd3-b95f-e7370cbfd13a",
        "colab": {
          "base_uri": "https://localhost:8080/"
        }
      },
      "outputs": [
        {
          "output_type": "execute_result",
          "data": {
            "text/plain": [
              "array(['Southern Asia', 'South West Europe', 'Northern Africa',\n",
              "       'Temperate South America', 'Western Asia',\n",
              "       'Oceania Melanesia Polynesia', 'Central America and Caribbean',\n",
              "       'Eastern Europe', 'Tropical South America', 'Western Africa',\n",
              "       'South-East Asia', 'Middle Africa', 'North America',\n",
              "       'Eastern Asia', 'Northern Europe', 'Eastern Africa',\n",
              "       'Central Asia', 'Southern Africa'], dtype=object)"
            ]
          },
          "metadata": {},
          "execution_count": 4
        }
      ],
      "source": [
        "data['FLUREGION'].unique()"
      ]
    },
    {
      "cell_type": "code",
      "execution_count": 5,
      "metadata": {
        "id": "dDX06F_tKObd",
        "outputId": "0464ed7d-0ed1-4fb3-8316-a585c5d36060",
        "colab": {
          "base_uri": "https://localhost:8080/"
        }
      },
      "outputs": [
        {
          "output_type": "execute_result",
          "data": {
            "text/plain": [
              "(208, 22)"
            ]
          },
          "metadata": {},
          "execution_count": 5
        }
      ],
      "source": [
        "region = data[(data['FLUREGION'] == 'Temperate South America') &\n",
        "           (data['Year'] == 2016)]\n",
        "region.shape"
      ]
    },
    {
      "cell_type": "code",
      "execution_count": 6,
      "metadata": {
        "id": "v821hhoKKObe",
        "outputId": "ce7c1e6d-405a-4761-e9db-df8cd1fa66bf",
        "colab": {
          "base_uri": "https://localhost:8080/",
          "height": 933
        }
      },
      "outputs": [
        {
          "output_type": "execute_result",
          "data": {
            "text/plain": [
              "       Country                      WHOREGION                FLUREGION  Year  \\\n",
              "123  Argentina  Region of the Americas of WHO  Temperate South America  2016   \n",
              "124  Argentina  Region of the Americas of WHO  Temperate South America  2016   \n",
              "125  Argentina  Region of the Americas of WHO  Temperate South America  2016   \n",
              "126  Argentina  Region of the Americas of WHO  Temperate South America  2016   \n",
              "127  Argentina  Region of the Americas of WHO  Temperate South America  2016   \n",
              "128  Argentina  Region of the Americas of WHO  Temperate South America  2016   \n",
              "129  Argentina  Region of the Americas of WHO  Temperate South America  2016   \n",
              "130  Argentina  Region of the Americas of WHO  Temperate South America  2016   \n",
              "131  Argentina  Region of the Americas of WHO  Temperate South America  2016   \n",
              "132  Argentina  Region of the Americas of WHO  Temperate South America  2016   \n",
              "\n",
              "     Week       SDATE       EDATE  SPEC_RECEIVED_NB  SPEC_PROCESSED_NB  AH1  \\\n",
              "123     1  2016-01-04  2016-01-10               7.0              467.0  0.0   \n",
              "124     2  2016-01-11  2016-01-17               5.0              402.0  0.0   \n",
              "125     3  2016-01-18  2016-01-24               1.0              412.0  0.0   \n",
              "126     4  2016-01-25  2016-01-31               1.0              388.0  0.0   \n",
              "127     5  2016-02-01  2016-02-07               3.0              385.0  0.0   \n",
              "128     6  2016-02-08  2016-02-14               1.0              296.0  0.0   \n",
              "129     7  2016-02-15  2016-02-21               2.0              376.0  0.0   \n",
              "130     8  2016-02-22  2016-02-28               2.0              380.0  0.0   \n",
              "131     9  2016-02-29  2016-03-06               2.0              444.0  0.0   \n",
              "132    10  2016-03-07  2016-03-13               1.0              561.0  0.0   \n",
              "\n",
              "     ...  AH5  ANOTSUBTYPED  INF_A  BYAMAGATA  BVICTORIA  BNOTDETERMINED  \\\n",
              "123  ...  0.0           0.0      1        0.0        4.0             5.0   \n",
              "124  ...  0.0           1.0      2        0.0        1.0             1.0   \n",
              "125  ...  0.0           3.0      4        0.0        1.0             0.0   \n",
              "126  ...  0.0           1.0      4        0.0        0.0             1.0   \n",
              "127  ...  0.0           4.0      4        0.0        0.0             0.0   \n",
              "128  ...  0.0           1.0      4        0.0        0.0             0.0   \n",
              "129  ...  0.0           2.0      5        1.0        0.0             1.0   \n",
              "130  ...  0.0           1.0      5        0.0        1.0             2.0   \n",
              "131  ...  0.0           1.0      5        0.0        0.0             0.0   \n",
              "132  ...  0.0           4.0     14        1.0        1.0             1.0   \n",
              "\n",
              "     INF_B  ALL_INF  ALL_INF2           TITLE  \n",
              "123      9       10     419.0     No Activity  \n",
              "124      2        4     362.0     No Activity  \n",
              "125      1        5     370.0     No Activity  \n",
              "126      1        5     347.0     No Activity  \n",
              "127      0        4     338.0     No Activity  \n",
              "128      0        4     264.0     No Activity  \n",
              "129      2        7     344.0     No Activity  \n",
              "130      3        8     333.0     No Activity  \n",
              "131      0        5     374.0        Sporadic  \n",
              "132      3       17     464.0  Local Outbreak  \n",
              "\n",
              "[10 rows x 22 columns]"
            ],
            "text/html": [
              "\n",
              "  <div id=\"df-3037f9b8-9804-482b-b5d4-5a42a9c8c406\" class=\"colab-df-container\">\n",
              "    <div>\n",
              "<style scoped>\n",
              "    .dataframe tbody tr th:only-of-type {\n",
              "        vertical-align: middle;\n",
              "    }\n",
              "\n",
              "    .dataframe tbody tr th {\n",
              "        vertical-align: top;\n",
              "    }\n",
              "\n",
              "    .dataframe thead th {\n",
              "        text-align: right;\n",
              "    }\n",
              "</style>\n",
              "<table border=\"1\" class=\"dataframe\">\n",
              "  <thead>\n",
              "    <tr style=\"text-align: right;\">\n",
              "      <th></th>\n",
              "      <th>Country</th>\n",
              "      <th>WHOREGION</th>\n",
              "      <th>FLUREGION</th>\n",
              "      <th>Year</th>\n",
              "      <th>Week</th>\n",
              "      <th>SDATE</th>\n",
              "      <th>EDATE</th>\n",
              "      <th>SPEC_RECEIVED_NB</th>\n",
              "      <th>SPEC_PROCESSED_NB</th>\n",
              "      <th>AH1</th>\n",
              "      <th>...</th>\n",
              "      <th>AH5</th>\n",
              "      <th>ANOTSUBTYPED</th>\n",
              "      <th>INF_A</th>\n",
              "      <th>BYAMAGATA</th>\n",
              "      <th>BVICTORIA</th>\n",
              "      <th>BNOTDETERMINED</th>\n",
              "      <th>INF_B</th>\n",
              "      <th>ALL_INF</th>\n",
              "      <th>ALL_INF2</th>\n",
              "      <th>TITLE</th>\n",
              "    </tr>\n",
              "  </thead>\n",
              "  <tbody>\n",
              "    <tr>\n",
              "      <th>123</th>\n",
              "      <td>Argentina</td>\n",
              "      <td>Region of the Americas of WHO</td>\n",
              "      <td>Temperate South America</td>\n",
              "      <td>2016</td>\n",
              "      <td>1</td>\n",
              "      <td>2016-01-04</td>\n",
              "      <td>2016-01-10</td>\n",
              "      <td>7.0</td>\n",
              "      <td>467.0</td>\n",
              "      <td>0.0</td>\n",
              "      <td>...</td>\n",
              "      <td>0.0</td>\n",
              "      <td>0.0</td>\n",
              "      <td>1</td>\n",
              "      <td>0.0</td>\n",
              "      <td>4.0</td>\n",
              "      <td>5.0</td>\n",
              "      <td>9</td>\n",
              "      <td>10</td>\n",
              "      <td>419.0</td>\n",
              "      <td>No Activity</td>\n",
              "    </tr>\n",
              "    <tr>\n",
              "      <th>124</th>\n",
              "      <td>Argentina</td>\n",
              "      <td>Region of the Americas of WHO</td>\n",
              "      <td>Temperate South America</td>\n",
              "      <td>2016</td>\n",
              "      <td>2</td>\n",
              "      <td>2016-01-11</td>\n",
              "      <td>2016-01-17</td>\n",
              "      <td>5.0</td>\n",
              "      <td>402.0</td>\n",
              "      <td>0.0</td>\n",
              "      <td>...</td>\n",
              "      <td>0.0</td>\n",
              "      <td>1.0</td>\n",
              "      <td>2</td>\n",
              "      <td>0.0</td>\n",
              "      <td>1.0</td>\n",
              "      <td>1.0</td>\n",
              "      <td>2</td>\n",
              "      <td>4</td>\n",
              "      <td>362.0</td>\n",
              "      <td>No Activity</td>\n",
              "    </tr>\n",
              "    <tr>\n",
              "      <th>125</th>\n",
              "      <td>Argentina</td>\n",
              "      <td>Region of the Americas of WHO</td>\n",
              "      <td>Temperate South America</td>\n",
              "      <td>2016</td>\n",
              "      <td>3</td>\n",
              "      <td>2016-01-18</td>\n",
              "      <td>2016-01-24</td>\n",
              "      <td>1.0</td>\n",
              "      <td>412.0</td>\n",
              "      <td>0.0</td>\n",
              "      <td>...</td>\n",
              "      <td>0.0</td>\n",
              "      <td>3.0</td>\n",
              "      <td>4</td>\n",
              "      <td>0.0</td>\n",
              "      <td>1.0</td>\n",
              "      <td>0.0</td>\n",
              "      <td>1</td>\n",
              "      <td>5</td>\n",
              "      <td>370.0</td>\n",
              "      <td>No Activity</td>\n",
              "    </tr>\n",
              "    <tr>\n",
              "      <th>126</th>\n",
              "      <td>Argentina</td>\n",
              "      <td>Region of the Americas of WHO</td>\n",
              "      <td>Temperate South America</td>\n",
              "      <td>2016</td>\n",
              "      <td>4</td>\n",
              "      <td>2016-01-25</td>\n",
              "      <td>2016-01-31</td>\n",
              "      <td>1.0</td>\n",
              "      <td>388.0</td>\n",
              "      <td>0.0</td>\n",
              "      <td>...</td>\n",
              "      <td>0.0</td>\n",
              "      <td>1.0</td>\n",
              "      <td>4</td>\n",
              "      <td>0.0</td>\n",
              "      <td>0.0</td>\n",
              "      <td>1.0</td>\n",
              "      <td>1</td>\n",
              "      <td>5</td>\n",
              "      <td>347.0</td>\n",
              "      <td>No Activity</td>\n",
              "    </tr>\n",
              "    <tr>\n",
              "      <th>127</th>\n",
              "      <td>Argentina</td>\n",
              "      <td>Region of the Americas of WHO</td>\n",
              "      <td>Temperate South America</td>\n",
              "      <td>2016</td>\n",
              "      <td>5</td>\n",
              "      <td>2016-02-01</td>\n",
              "      <td>2016-02-07</td>\n",
              "      <td>3.0</td>\n",
              "      <td>385.0</td>\n",
              "      <td>0.0</td>\n",
              "      <td>...</td>\n",
              "      <td>0.0</td>\n",
              "      <td>4.0</td>\n",
              "      <td>4</td>\n",
              "      <td>0.0</td>\n",
              "      <td>0.0</td>\n",
              "      <td>0.0</td>\n",
              "      <td>0</td>\n",
              "      <td>4</td>\n",
              "      <td>338.0</td>\n",
              "      <td>No Activity</td>\n",
              "    </tr>\n",
              "    <tr>\n",
              "      <th>128</th>\n",
              "      <td>Argentina</td>\n",
              "      <td>Region of the Americas of WHO</td>\n",
              "      <td>Temperate South America</td>\n",
              "      <td>2016</td>\n",
              "      <td>6</td>\n",
              "      <td>2016-02-08</td>\n",
              "      <td>2016-02-14</td>\n",
              "      <td>1.0</td>\n",
              "      <td>296.0</td>\n",
              "      <td>0.0</td>\n",
              "      <td>...</td>\n",
              "      <td>0.0</td>\n",
              "      <td>1.0</td>\n",
              "      <td>4</td>\n",
              "      <td>0.0</td>\n",
              "      <td>0.0</td>\n",
              "      <td>0.0</td>\n",
              "      <td>0</td>\n",
              "      <td>4</td>\n",
              "      <td>264.0</td>\n",
              "      <td>No Activity</td>\n",
              "    </tr>\n",
              "    <tr>\n",
              "      <th>129</th>\n",
              "      <td>Argentina</td>\n",
              "      <td>Region of the Americas of WHO</td>\n",
              "      <td>Temperate South America</td>\n",
              "      <td>2016</td>\n",
              "      <td>7</td>\n",
              "      <td>2016-02-15</td>\n",
              "      <td>2016-02-21</td>\n",
              "      <td>2.0</td>\n",
              "      <td>376.0</td>\n",
              "      <td>0.0</td>\n",
              "      <td>...</td>\n",
              "      <td>0.0</td>\n",
              "      <td>2.0</td>\n",
              "      <td>5</td>\n",
              "      <td>1.0</td>\n",
              "      <td>0.0</td>\n",
              "      <td>1.0</td>\n",
              "      <td>2</td>\n",
              "      <td>7</td>\n",
              "      <td>344.0</td>\n",
              "      <td>No Activity</td>\n",
              "    </tr>\n",
              "    <tr>\n",
              "      <th>130</th>\n",
              "      <td>Argentina</td>\n",
              "      <td>Region of the Americas of WHO</td>\n",
              "      <td>Temperate South America</td>\n",
              "      <td>2016</td>\n",
              "      <td>8</td>\n",
              "      <td>2016-02-22</td>\n",
              "      <td>2016-02-28</td>\n",
              "      <td>2.0</td>\n",
              "      <td>380.0</td>\n",
              "      <td>0.0</td>\n",
              "      <td>...</td>\n",
              "      <td>0.0</td>\n",
              "      <td>1.0</td>\n",
              "      <td>5</td>\n",
              "      <td>0.0</td>\n",
              "      <td>1.0</td>\n",
              "      <td>2.0</td>\n",
              "      <td>3</td>\n",
              "      <td>8</td>\n",
              "      <td>333.0</td>\n",
              "      <td>No Activity</td>\n",
              "    </tr>\n",
              "    <tr>\n",
              "      <th>131</th>\n",
              "      <td>Argentina</td>\n",
              "      <td>Region of the Americas of WHO</td>\n",
              "      <td>Temperate South America</td>\n",
              "      <td>2016</td>\n",
              "      <td>9</td>\n",
              "      <td>2016-02-29</td>\n",
              "      <td>2016-03-06</td>\n",
              "      <td>2.0</td>\n",
              "      <td>444.0</td>\n",
              "      <td>0.0</td>\n",
              "      <td>...</td>\n",
              "      <td>0.0</td>\n",
              "      <td>1.0</td>\n",
              "      <td>5</td>\n",
              "      <td>0.0</td>\n",
              "      <td>0.0</td>\n",
              "      <td>0.0</td>\n",
              "      <td>0</td>\n",
              "      <td>5</td>\n",
              "      <td>374.0</td>\n",
              "      <td>Sporadic</td>\n",
              "    </tr>\n",
              "    <tr>\n",
              "      <th>132</th>\n",
              "      <td>Argentina</td>\n",
              "      <td>Region of the Americas of WHO</td>\n",
              "      <td>Temperate South America</td>\n",
              "      <td>2016</td>\n",
              "      <td>10</td>\n",
              "      <td>2016-03-07</td>\n",
              "      <td>2016-03-13</td>\n",
              "      <td>1.0</td>\n",
              "      <td>561.0</td>\n",
              "      <td>0.0</td>\n",
              "      <td>...</td>\n",
              "      <td>0.0</td>\n",
              "      <td>4.0</td>\n",
              "      <td>14</td>\n",
              "      <td>1.0</td>\n",
              "      <td>1.0</td>\n",
              "      <td>1.0</td>\n",
              "      <td>3</td>\n",
              "      <td>17</td>\n",
              "      <td>464.0</td>\n",
              "      <td>Local Outbreak</td>\n",
              "    </tr>\n",
              "  </tbody>\n",
              "</table>\n",
              "<p>10 rows × 22 columns</p>\n",
              "</div>\n",
              "    <div class=\"colab-df-buttons\">\n",
              "\n",
              "  <div class=\"colab-df-container\">\n",
              "    <button class=\"colab-df-convert\" onclick=\"convertToInteractive('df-3037f9b8-9804-482b-b5d4-5a42a9c8c406')\"\n",
              "            title=\"Convert this dataframe to an interactive table.\"\n",
              "            style=\"display:none;\">\n",
              "\n",
              "  <svg xmlns=\"http://www.w3.org/2000/svg\" height=\"24px\" viewBox=\"0 -960 960 960\">\n",
              "    <path d=\"M120-120v-720h720v720H120Zm60-500h600v-160H180v160Zm220 220h160v-160H400v160Zm0 220h160v-160H400v160ZM180-400h160v-160H180v160Zm440 0h160v-160H620v160ZM180-180h160v-160H180v160Zm440 0h160v-160H620v160Z\"/>\n",
              "  </svg>\n",
              "    </button>\n",
              "\n",
              "  <style>\n",
              "    .colab-df-container {\n",
              "      display:flex;\n",
              "      gap: 12px;\n",
              "    }\n",
              "\n",
              "    .colab-df-convert {\n",
              "      background-color: #E8F0FE;\n",
              "      border: none;\n",
              "      border-radius: 50%;\n",
              "      cursor: pointer;\n",
              "      display: none;\n",
              "      fill: #1967D2;\n",
              "      height: 32px;\n",
              "      padding: 0 0 0 0;\n",
              "      width: 32px;\n",
              "    }\n",
              "\n",
              "    .colab-df-convert:hover {\n",
              "      background-color: #E2EBFA;\n",
              "      box-shadow: 0px 1px 2px rgba(60, 64, 67, 0.3), 0px 1px 3px 1px rgba(60, 64, 67, 0.15);\n",
              "      fill: #174EA6;\n",
              "    }\n",
              "\n",
              "    .colab-df-buttons div {\n",
              "      margin-bottom: 4px;\n",
              "    }\n",
              "\n",
              "    [theme=dark] .colab-df-convert {\n",
              "      background-color: #3B4455;\n",
              "      fill: #D2E3FC;\n",
              "    }\n",
              "\n",
              "    [theme=dark] .colab-df-convert:hover {\n",
              "      background-color: #434B5C;\n",
              "      box-shadow: 0px 1px 3px 1px rgba(0, 0, 0, 0.15);\n",
              "      filter: drop-shadow(0px 1px 2px rgba(0, 0, 0, 0.3));\n",
              "      fill: #FFFFFF;\n",
              "    }\n",
              "  </style>\n",
              "\n",
              "    <script>\n",
              "      const buttonEl =\n",
              "        document.querySelector('#df-3037f9b8-9804-482b-b5d4-5a42a9c8c406 button.colab-df-convert');\n",
              "      buttonEl.style.display =\n",
              "        google.colab.kernel.accessAllowed ? 'block' : 'none';\n",
              "\n",
              "      async function convertToInteractive(key) {\n",
              "        const element = document.querySelector('#df-3037f9b8-9804-482b-b5d4-5a42a9c8c406');\n",
              "        const dataTable =\n",
              "          await google.colab.kernel.invokeFunction('convertToInteractive',\n",
              "                                                    [key], {});\n",
              "        if (!dataTable) return;\n",
              "\n",
              "        const docLinkHtml = 'Like what you see? Visit the ' +\n",
              "          '<a target=\"_blank\" href=https://colab.research.google.com/notebooks/data_table.ipynb>data table notebook</a>'\n",
              "          + ' to learn more about interactive tables.';\n",
              "        element.innerHTML = '';\n",
              "        dataTable['output_type'] = 'display_data';\n",
              "        await google.colab.output.renderOutput(dataTable, element);\n",
              "        const docLink = document.createElement('div');\n",
              "        docLink.innerHTML = docLinkHtml;\n",
              "        element.appendChild(docLink);\n",
              "      }\n",
              "    </script>\n",
              "  </div>\n",
              "\n",
              "\n",
              "<div id=\"df-01836834-2dee-49f5-9012-58b01faf7c18\">\n",
              "  <button class=\"colab-df-quickchart\" onclick=\"quickchart('df-01836834-2dee-49f5-9012-58b01faf7c18')\"\n",
              "            title=\"Suggest charts\"\n",
              "            style=\"display:none;\">\n",
              "\n",
              "<svg xmlns=\"http://www.w3.org/2000/svg\" height=\"24px\"viewBox=\"0 0 24 24\"\n",
              "     width=\"24px\">\n",
              "    <g>\n",
              "        <path d=\"M19 3H5c-1.1 0-2 .9-2 2v14c0 1.1.9 2 2 2h14c1.1 0 2-.9 2-2V5c0-1.1-.9-2-2-2zM9 17H7v-7h2v7zm4 0h-2V7h2v10zm4 0h-2v-4h2v4z\"/>\n",
              "    </g>\n",
              "</svg>\n",
              "  </button>\n",
              "\n",
              "<style>\n",
              "  .colab-df-quickchart {\n",
              "      --bg-color: #E8F0FE;\n",
              "      --fill-color: #1967D2;\n",
              "      --hover-bg-color: #E2EBFA;\n",
              "      --hover-fill-color: #174EA6;\n",
              "      --disabled-fill-color: #AAA;\n",
              "      --disabled-bg-color: #DDD;\n",
              "  }\n",
              "\n",
              "  [theme=dark] .colab-df-quickchart {\n",
              "      --bg-color: #3B4455;\n",
              "      --fill-color: #D2E3FC;\n",
              "      --hover-bg-color: #434B5C;\n",
              "      --hover-fill-color: #FFFFFF;\n",
              "      --disabled-bg-color: #3B4455;\n",
              "      --disabled-fill-color: #666;\n",
              "  }\n",
              "\n",
              "  .colab-df-quickchart {\n",
              "    background-color: var(--bg-color);\n",
              "    border: none;\n",
              "    border-radius: 50%;\n",
              "    cursor: pointer;\n",
              "    display: none;\n",
              "    fill: var(--fill-color);\n",
              "    height: 32px;\n",
              "    padding: 0;\n",
              "    width: 32px;\n",
              "  }\n",
              "\n",
              "  .colab-df-quickchart:hover {\n",
              "    background-color: var(--hover-bg-color);\n",
              "    box-shadow: 0 1px 2px rgba(60, 64, 67, 0.3), 0 1px 3px 1px rgba(60, 64, 67, 0.15);\n",
              "    fill: var(--button-hover-fill-color);\n",
              "  }\n",
              "\n",
              "  .colab-df-quickchart-complete:disabled,\n",
              "  .colab-df-quickchart-complete:disabled:hover {\n",
              "    background-color: var(--disabled-bg-color);\n",
              "    fill: var(--disabled-fill-color);\n",
              "    box-shadow: none;\n",
              "  }\n",
              "\n",
              "  .colab-df-spinner {\n",
              "    border: 2px solid var(--fill-color);\n",
              "    border-color: transparent;\n",
              "    border-bottom-color: var(--fill-color);\n",
              "    animation:\n",
              "      spin 1s steps(1) infinite;\n",
              "  }\n",
              "\n",
              "  @keyframes spin {\n",
              "    0% {\n",
              "      border-color: transparent;\n",
              "      border-bottom-color: var(--fill-color);\n",
              "      border-left-color: var(--fill-color);\n",
              "    }\n",
              "    20% {\n",
              "      border-color: transparent;\n",
              "      border-left-color: var(--fill-color);\n",
              "      border-top-color: var(--fill-color);\n",
              "    }\n",
              "    30% {\n",
              "      border-color: transparent;\n",
              "      border-left-color: var(--fill-color);\n",
              "      border-top-color: var(--fill-color);\n",
              "      border-right-color: var(--fill-color);\n",
              "    }\n",
              "    40% {\n",
              "      border-color: transparent;\n",
              "      border-right-color: var(--fill-color);\n",
              "      border-top-color: var(--fill-color);\n",
              "    }\n",
              "    60% {\n",
              "      border-color: transparent;\n",
              "      border-right-color: var(--fill-color);\n",
              "    }\n",
              "    80% {\n",
              "      border-color: transparent;\n",
              "      border-right-color: var(--fill-color);\n",
              "      border-bottom-color: var(--fill-color);\n",
              "    }\n",
              "    90% {\n",
              "      border-color: transparent;\n",
              "      border-bottom-color: var(--fill-color);\n",
              "    }\n",
              "  }\n",
              "</style>\n",
              "\n",
              "  <script>\n",
              "    async function quickchart(key) {\n",
              "      const quickchartButtonEl =\n",
              "        document.querySelector('#' + key + ' button');\n",
              "      quickchartButtonEl.disabled = true;  // To prevent multiple clicks.\n",
              "      quickchartButtonEl.classList.add('colab-df-spinner');\n",
              "      try {\n",
              "        const charts = await google.colab.kernel.invokeFunction(\n",
              "            'suggestCharts', [key], {});\n",
              "      } catch (error) {\n",
              "        console.error('Error during call to suggestCharts:', error);\n",
              "      }\n",
              "      quickchartButtonEl.classList.remove('colab-df-spinner');\n",
              "      quickchartButtonEl.classList.add('colab-df-quickchart-complete');\n",
              "    }\n",
              "    (() => {\n",
              "      let quickchartButtonEl =\n",
              "        document.querySelector('#df-01836834-2dee-49f5-9012-58b01faf7c18 button');\n",
              "      quickchartButtonEl.style.display =\n",
              "        google.colab.kernel.accessAllowed ? 'block' : 'none';\n",
              "    })();\n",
              "  </script>\n",
              "</div>\n",
              "\n",
              "    </div>\n",
              "  </div>\n"
            ],
            "application/vnd.google.colaboratory.intrinsic+json": {
              "type": "dataframe"
            }
          },
          "metadata": {},
          "execution_count": 6
        }
      ],
      "source": [
        "region[0:10]"
      ]
    },
    {
      "cell_type": "code",
      "execution_count": 7,
      "metadata": {
        "id": "Exe5-3jbKObe",
        "outputId": "5f036328-1676-41e4-d7a1-9bdbb0bd9733",
        "colab": {
          "base_uri": "https://localhost:8080/"
        }
      },
      "outputs": [
        {
          "output_type": "execute_result",
          "data": {
            "text/plain": [
              "array(['Argentina', 'Chile', 'Paraguay', 'Uruguay'], dtype=object)"
            ]
          },
          "metadata": {},
          "execution_count": 7
        }
      ],
      "source": [
        "region['Country'].unique()"
      ]
    },
    {
      "cell_type": "code",
      "execution_count": 8,
      "metadata": {
        "id": "3seqItkwKObe",
        "outputId": "c08a3c98-1596-40d8-fc0a-00f254af14d8",
        "colab": {
          "base_uri": "https://localhost:8080/",
          "height": 466
        }
      },
      "outputs": [
        {
          "output_type": "execute_result",
          "data": {
            "text/plain": [
              "<Axes: xlabel='Country', ylabel='INF_A'>"
            ]
          },
          "metadata": {},
          "execution_count": 8
        },
        {
          "output_type": "display_data",
          "data": {
            "text/plain": [
              "<Figure size 640x480 with 1 Axes>"
            ],
            "image/png": "[encoded data removed]"
          },
          "metadata": {}
        }
      ],
      "source": [
        "sns.barplot(x='Country', y='INF_A', data=region)"
      ]
    },
    {
      "cell_type": "code",
      "execution_count": 9,
      "metadata": {
        "id": "mgIdzixMKObe",
        "outputId": "f4e5d9d6-96ef-4d5a-be9d-514752acc9de",
        "colab": {
          "base_uri": "https://localhost:8080/",
          "height": 553
        }
      },
      "outputs": [
        {
          "output_type": "stream",
          "name": "stderr",
          "text": [
            "<ipython-input-9-a18848d068b5>:1: FutureWarning: \n",
            "\n",
            "The `ci` parameter is deprecated. Use `errorbar=None` for the same effect.\n",
            "\n",
            "  sns.barplot(x='Country', y='INF_A', data=region, estimator=sum, ci=None)\n"
          ]
        },
        {
          "output_type": "execute_result",
          "data": {
            "text/plain": [
              "<Axes: xlabel='Country', ylabel='INF_A'>"
            ]
          },
          "metadata": {},
          "execution_count": 9
        },
        {
          "output_type": "display_data",
          "data": {
            "text/plain": [
              "<Figure size 640x480 with 1 Axes>"
            ],
            "image/png": "[encoded data removed]"
          },
          "metadata": {}
        }
      ],
      "source": [
        "sns.barplot(x='Country', y='INF_A', data=region, estimator=sum, ci=None)"
      ]
    },
    {
      "cell_type": "code",
      "execution_count": null,
      "metadata": {
        "id": "3uepBSNpKObe"
      },
      "outputs": [],
      "source": []
    },
    {
      "cell_type": "code",
      "execution_count": null,
      "metadata": {
        "id": "TUmuexANKObe"
      },
      "outputs": [],
      "source": []
    }
  ],
  "metadata": {
    "kernelspec": {
      "display_name": "Python 3",
      "language": "python",
      "name": "python3"
    },
    "language_info": {
      "codemirror_mode": {
        "name": "ipython",
        "version": 3
      },
      "file_extension": ".py",
      "mimetype": "text/x-python",
      "name": "python",
      "nbconvert_exporter": "python",
      "pygments_lexer": "ipython3",
      "version": "3.6.7"
    },
    "colab": {
      "provenance": []
    }
  },
  "nbformat": 4,
  "nbformat_minor": 0
}