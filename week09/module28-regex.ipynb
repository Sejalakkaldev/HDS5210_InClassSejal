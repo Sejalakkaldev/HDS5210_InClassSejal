{
  "cells": [
    {
      "cell_type": "markdown",
      "metadata": {
        "id": "LHIUvJe46TLv"
      },
      "source": [
        "# Regular Expressions\n",
        "\n",
        "Regular Expressions can be hard. Luckily, there are some great online tools to help you build and test them:\n",
        "\n",
        "https://regex101.com/\n",
        "\n",
        "---"
      ]
    },
    {
      "cell_type": "code",
      "execution_count": 1,
      "metadata": {
        "id": "kexJGmSZ6TLx"
      },
      "outputs": [],
      "source": [
        "import re"
      ]
    },
    {
      "cell_type": "code",
      "execution_count": 2,
      "metadata": {
        "id": "47ujJ-uo6TLx"
      },
      "outputs": [],
      "source": [
        "phone1 = \"314-598-5494\""
      ]
    },
    {
      "cell_type": "code",
      "execution_count": 3,
      "metadata": {
        "id": "oBvzvEHB6TLx"
      },
      "outputs": [],
      "source": [
        "matches = re.match(r\"(\\d{3})-(\\d{3})-(\\d{4})\",phone1)"
      ]
    },
    {
      "cell_type": "code",
      "execution_count": 4,
      "metadata": {
        "id": "n-J5fn7p6TLy",
        "outputId": "d1661d94-98d3-41a2-d977-667372831b8a",
        "colab": {
          "base_uri": "https://localhost:8080/",
          "height": 35
        }
      },
      "outputs": [
        {
          "output_type": "execute_result",
          "data": {
            "text/plain": [
              "'314-598-5494'"
            ],
            "application/vnd.google.colaboratory.intrinsic+json": {
              "type": "string"
            }
          },
          "metadata": {},
          "execution_count": 4
        }
      ],
      "source": [
        "matches.group(0)"
      ]
    },
    {
      "cell_type": "code",
      "execution_count": 5,
      "metadata": {
        "id": "8F0bn_8M6TLy"
      },
      "outputs": [],
      "source": [
        "phones = [\n",
        "    '314-598-5494',\n",
        "    '(555) 321-1234',\n",
        "    '+1 555-123-4567'\n",
        "]"
      ]
    },
    {
      "cell_type": "code",
      "execution_count": 6,
      "metadata": {
        "id": "lDCzT8o36TLy",
        "outputId": "6c2fdf76-352d-4432-f3b7-e4329373337d",
        "colab": {
          "base_uri": "https://localhost:8080/"
        }
      },
      "outputs": [
        {
          "output_type": "stream",
          "name": "stdout",
          "text": [
            "314-598-5494\n",
            "(555) 321-1234\n",
            "Doesn't match: +1 555-123-4567\n"
          ]
        }
      ],
      "source": [
        "for phone in phones:\n",
        "    matches = re.match(r\"(\\(?\\d{3}\\)?)[-\\ ](\\d{3})-(\\d{4})\", phone)\n",
        "    if matches is None:\n",
        "        print(f\"Doesn't match: {phone}\")\n",
        "    else:\n",
        "        print(matches.group(0))"
      ]
    },
    {
      "cell_type": "markdown",
      "metadata": {
        "id": "1PrISPni6TLz"
      },
      "source": [
        "# Name Parsing"
      ]
    },
    {
      "cell_type": "code",
      "execution_count": 7,
      "metadata": {
        "id": "zBPp0eUO6TLz"
      },
      "outputs": [],
      "source": [
        "# Names are formatted as First MI. Last\n",
        "name=\"Paul E. Boal\""
      ]
    },
    {
      "cell_type": "code",
      "execution_count": 8,
      "metadata": {
        "id": "4QUETsQ36TLz"
      },
      "outputs": [],
      "source": [
        "matches = re.match(r\"^([\\w]+) ([A-Z])\\. ([\\w]+)\", name)"
      ]
    },
    {
      "cell_type": "code",
      "execution_count": 9,
      "metadata": {
        "id": "4tw9b9lm6TLz",
        "outputId": "21448bd5-1598-4af8-bc50-caaf5804dcaa",
        "colab": {
          "base_uri": "https://localhost:8080/",
          "height": 35
        }
      },
      "outputs": [
        {
          "output_type": "execute_result",
          "data": {
            "text/plain": [
              "'Paul E. Boal'"
            ],
            "application/vnd.google.colaboratory.intrinsic+json": {
              "type": "string"
            }
          },
          "metadata": {},
          "execution_count": 9
        }
      ],
      "source": [
        "# The whole match\n",
        "matches.group(0)"
      ]
    },
    {
      "cell_type": "code",
      "execution_count": 10,
      "metadata": {
        "id": "RNXTnmV26TLz",
        "outputId": "a8ff7826-e3b6-42e4-c471-beb3d5988d77",
        "colab": {
          "base_uri": "https://localhost:8080/",
          "height": 35
        }
      },
      "outputs": [
        {
          "output_type": "execute_result",
          "data": {
            "text/plain": [
              "'Paul'"
            ],
            "application/vnd.google.colaboratory.intrinsic+json": {
              "type": "string"
            }
          },
          "metadata": {},
          "execution_count": 10
        }
      ],
      "source": [
        "# THe first subgroup\n",
        "matches.group(1)"
      ]
    },
    {
      "cell_type": "code",
      "execution_count": 11,
      "metadata": {
        "id": "CEsMs1vZ6TLz",
        "outputId": "26caee34-1e22-4994-837c-db872bb96497",
        "colab": {
          "base_uri": "https://localhost:8080/",
          "height": 35
        }
      },
      "outputs": [
        {
          "output_type": "execute_result",
          "data": {
            "text/plain": [
              "'E'"
            ],
            "application/vnd.google.colaboratory.intrinsic+json": {
              "type": "string"
            }
          },
          "metadata": {},
          "execution_count": 11
        }
      ],
      "source": [
        "matches.group(2)"
      ]
    },
    {
      "cell_type": "code",
      "execution_count": 12,
      "metadata": {
        "id": "bz67sFta6TLz",
        "outputId": "70ab2752-3a57-4069-c89d-4a5f56a4aa32",
        "colab": {
          "base_uri": "https://localhost:8080/",
          "height": 35
        }
      },
      "outputs": [
        {
          "output_type": "execute_result",
          "data": {
            "text/plain": [
              "'Boal'"
            ],
            "application/vnd.google.colaboratory.intrinsic+json": {
              "type": "string"
            }
          },
          "metadata": {},
          "execution_count": 12
        }
      ],
      "source": [
        "matches.group(3)"
      ]
    },
    {
      "cell_type": "markdown",
      "metadata": {
        "id": "dLACLK7s6TLz"
      },
      "source": [
        "# Add on Credentials!"
      ]
    },
    {
      "cell_type": "code",
      "execution_count": 13,
      "metadata": {
        "id": "vYsDJ1pz6TLz"
      },
      "outputs": [],
      "source": [
        "names = [\n",
        "    \"Steven G. Sanders, MD\",\n",
        "    \"Alice D. Edwards, PhD\",\n",
        "    \"Joseph B. Lester, MD, PhD\"\n",
        "]"
      ]
    },
    {
      "cell_type": "code",
      "execution_count": 14,
      "metadata": {
        "id": "aVVUcQ_96TLz",
        "outputId": "b2358dc2-91cf-40f5-a616-1b06804d04fe",
        "colab": {
          "base_uri": "https://localhost:8080/"
        }
      },
      "outputs": [
        {
          "output_type": "stream",
          "name": "stdout",
          "text": [
            "['Steven', 'G', 'Sanders', ['MD']]\n",
            "['Alice', 'D', 'Edwards', ['PhD']]\n",
            "['Joseph', 'B', 'Lester', ['MD', 'PhD']]\n"
          ]
        }
      ],
      "source": [
        "for name in names:\n",
        "    matches = re.match(r\"^([\\w]+) ([A-Z])\\. ([\\w]+), ([\\w\\.\\, ]+)\", name)\n",
        "    first = matches.group(1)\n",
        "    middle = matches.group(2)\n",
        "    last = matches.group(3)\n",
        "    creds = matches.group(4).split(', ')\n",
        "    print([first, middle, last, creds])"
      ]
    },
    {
      "cell_type": "markdown",
      "metadata": {
        "id": "mKEIqQtl6TL0"
      },
      "source": [
        "# Date of Birth\n",
        "\n",
        "Month ##, ####"
      ]
    },
    {
      "cell_type": "code",
      "execution_count": 15,
      "metadata": {
        "id": "DaxXx2WL6TL0"
      },
      "outputs": [],
      "source": [
        "birthday=\"March 25, 2011\""
      ]
    },
    {
      "cell_type": "code",
      "execution_count": 16,
      "metadata": {
        "id": "apNwa8bW6TL0"
      },
      "outputs": [],
      "source": [
        "matches = re.match(r\"([a-zA-Z]+) ([0-9]{1,2}), ([0-9]{4})\", birthday)"
      ]
    },
    {
      "cell_type": "code",
      "execution_count": 17,
      "metadata": {
        "id": "uENkPpuh6TL0",
        "outputId": "9de04456-1e03-4542-9d2a-a5584f1df068",
        "colab": {
          "base_uri": "https://localhost:8080/",
          "height": 35
        }
      },
      "outputs": [
        {
          "output_type": "execute_result",
          "data": {
            "text/plain": [
              "'March 25, 2011'"
            ],
            "application/vnd.google.colaboratory.intrinsic+json": {
              "type": "string"
            }
          },
          "metadata": {},
          "execution_count": 17
        }
      ],
      "source": [
        "matches.group(0)"
      ]
    },
    {
      "cell_type": "code",
      "execution_count": 18,
      "metadata": {
        "id": "8o1ROf8O6TL0",
        "outputId": "f3cca4f0-b83e-4276-ef20-4d9b0a0e6705",
        "colab": {
          "base_uri": "https://localhost:8080/",
          "height": 35
        }
      },
      "outputs": [
        {
          "output_type": "execute_result",
          "data": {
            "text/plain": [
              "'March'"
            ],
            "application/vnd.google.colaboratory.intrinsic+json": {
              "type": "string"
            }
          },
          "metadata": {},
          "execution_count": 18
        }
      ],
      "source": [
        "matches.group(1)"
      ]
    },
    {
      "cell_type": "code",
      "execution_count": 19,
      "metadata": {
        "id": "ndYt-oXQ6TL0",
        "outputId": "25859bef-62ba-4a01-f040-073b1af6e20b",
        "colab": {
          "base_uri": "https://localhost:8080/",
          "height": 35
        }
      },
      "outputs": [
        {
          "output_type": "execute_result",
          "data": {
            "text/plain": [
              "'25'"
            ],
            "application/vnd.google.colaboratory.intrinsic+json": {
              "type": "string"
            }
          },
          "metadata": {},
          "execution_count": 19
        }
      ],
      "source": [
        "matches.group(2)"
      ]
    },
    {
      "cell_type": "code",
      "execution_count": 20,
      "metadata": {
        "id": "3iJ-S1oS6TL0",
        "outputId": "dc0ddef8-054b-49f1-b1c7-291df850eec4",
        "colab": {
          "base_uri": "https://localhost:8080/",
          "height": 35
        }
      },
      "outputs": [
        {
          "output_type": "execute_result",
          "data": {
            "text/plain": [
              "'2011'"
            ],
            "application/vnd.google.colaboratory.intrinsic+json": {
              "type": "string"
            }
          },
          "metadata": {},
          "execution_count": 20
        }
      ],
      "source": [
        "matches.group(3)"
      ]
    },
    {
      "cell_type": "code",
      "execution_count": null,
      "metadata": {
        "id": "M5Swk1ai6TL0"
      },
      "outputs": [],
      "source": []
    }
  ],
  "metadata": {
    "kernelspec": {
      "display_name": "Python 3",
      "language": "python",
      "name": "python3"
    },
    "language_info": {
      "codemirror_mode": {
        "name": "ipython",
        "version": 3
      },
      "file_extension": ".py",
      "mimetype": "text/x-python",
      "name": "python",
      "nbconvert_exporter": "python",
      "pygments_lexer": "ipython3",
      "version": "3.6.7"
    },
    "colab": {
      "provenance": []
    }
  },
  "nbformat": 4,
  "nbformat_minor": 0
}